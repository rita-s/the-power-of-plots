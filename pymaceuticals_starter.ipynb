{
 "cells": [
  {
   "cell_type": "markdown",
   "metadata": {
    "pycharm": {
     "name": "#%% md\n"
    }
   },
   "source": [
    "## Observations and Insights "
   ]
  },
  {
   "cell_type": "markdown",
   "metadata": {
    "pycharm": {
     "name": "#%% md\n"
    }
   },
   "source": []
  },
  {
   "cell_type": "code",
   "execution_count": 129,
   "metadata": {
    "pycharm": {
     "name": "#%%\n"
    }
   },
   "outputs": [
    {
     "data": {
      "text/plain": "  Mouse ID  Timepoint  Tumor Volume (mm3)  Metastatic Sites Drug Regimen  \\\n0     b128          0                45.0                 0    Capomulin   \n1     f932          0                45.0                 0     Ketapril   \n2     g107          0                45.0                 0     Ketapril   \n3     a457          0                45.0                 0     Ketapril   \n4     c819          0                45.0                 0     Ketapril   \n\n      Sex  Age_months  Weight (g)  \n0  Female           9          22  \n1    Male          15          29  \n2  Female           2          29  \n3  Female          11          30  \n4    Male          21          25  ",
      "text/html": "<div>\n<style scoped>\n    .dataframe tbody tr th:only-of-type {\n        vertical-align: middle;\n    }\n\n    .dataframe tbody tr th {\n        vertical-align: top;\n    }\n\n    .dataframe thead th {\n        text-align: right;\n    }\n</style>\n<table border=\"1\" class=\"dataframe\">\n  <thead>\n    <tr style=\"text-align: right;\">\n      <th></th>\n      <th>Mouse ID</th>\n      <th>Timepoint</th>\n      <th>Tumor Volume (mm3)</th>\n      <th>Metastatic Sites</th>\n      <th>Drug Regimen</th>\n      <th>Sex</th>\n      <th>Age_months</th>\n      <th>Weight (g)</th>\n    </tr>\n  </thead>\n  <tbody>\n    <tr>\n      <th>0</th>\n      <td>b128</td>\n      <td>0</td>\n      <td>45.0</td>\n      <td>0</td>\n      <td>Capomulin</td>\n      <td>Female</td>\n      <td>9</td>\n      <td>22</td>\n    </tr>\n    <tr>\n      <th>1</th>\n      <td>f932</td>\n      <td>0</td>\n      <td>45.0</td>\n      <td>0</td>\n      <td>Ketapril</td>\n      <td>Male</td>\n      <td>15</td>\n      <td>29</td>\n    </tr>\n    <tr>\n      <th>2</th>\n      <td>g107</td>\n      <td>0</td>\n      <td>45.0</td>\n      <td>0</td>\n      <td>Ketapril</td>\n      <td>Female</td>\n      <td>2</td>\n      <td>29</td>\n    </tr>\n    <tr>\n      <th>3</th>\n      <td>a457</td>\n      <td>0</td>\n      <td>45.0</td>\n      <td>0</td>\n      <td>Ketapril</td>\n      <td>Female</td>\n      <td>11</td>\n      <td>30</td>\n    </tr>\n    <tr>\n      <th>4</th>\n      <td>c819</td>\n      <td>0</td>\n      <td>45.0</td>\n      <td>0</td>\n      <td>Ketapril</td>\n      <td>Male</td>\n      <td>21</td>\n      <td>25</td>\n    </tr>\n  </tbody>\n</table>\n</div>"
     },
     "execution_count": 129,
     "metadata": {},
     "output_type": "execute_result"
    }
   ],
   "source": [
    "# Dependencies and Setup\n",
    "import matplotlib.pyplot as plt\n",
    "import pandas as pd\n",
    "import scipy.stats as st\n",
    "\n",
    "# Study data files\n",
    "mouse_metadata_path = \"data/Mouse_metadata.csv\"\n",
    "study_results_path = \"data/Study_results.csv\"\n",
    "\n",
    "# Read the mouse data and the study results\n",
    "mouse_metadata = pd.read_csv(mouse_metadata_path)\n",
    "study_results = pd.read_csv(study_results_path)\n",
    "\n",
    "# Combine the data into a single dataset\n",
    "mouse_data_complete = pd.merge(study_results, mouse_metadata, how='left', on=['Mouse ID', 'Mouse ID'])\n",
    "\n",
    "# Display the data table for preview\n",
    "mouse_data_complete.head()"
   ]
  },
  {
   "cell_type": "code",
   "execution_count": 130,
   "metadata": {
    "pycharm": {
     "name": "#%%\n"
    }
   },
   "outputs": [
    {
     "data": {
      "text/plain": "249"
     },
     "execution_count": 130,
     "metadata": {},
     "output_type": "execute_result"
    }
   ],
   "source": [
    "# Checking the number of mice\n",
    "number_of_mice = mouse_metadata['Mouse ID'].count()\n",
    "number_of_mice"
   ]
  },
  {
   "cell_type": "code",
   "execution_count": 131,
   "metadata": {
    "pycharm": {
     "name": "#%%\n"
    }
   },
   "outputs": [
    {
     "data": {
      "text/plain": "Mouse ID  Timepoint  Tumor Volume (mm3)  Metastatic Sites\ng989      0          45.000000           0                   1\n          5          47.570392           0                   1\n          10         49.880528           0                   1\n          15         53.442020           0                   1\n          20         54.657650           1                   1\ndtype: int64"
     },
     "execution_count": 131,
     "metadata": {},
     "output_type": "execute_result"
    }
   ],
   "source": [
    "# Getting the duplicate mice by ID number that shows up for Mouse ID and Timepoint\n",
    "duplicated_mice_by_ID = study_results[study_results.duplicated(['Mouse ID', 'Timepoint'])]\n",
    "duplicated_mice_by_ID.value_counts()"
   ]
  },
  {
   "cell_type": "code",
   "execution_count": 132,
   "outputs": [
    {
     "data": {
      "text/plain": "0    g989\ndtype: object"
     },
     "execution_count": 132,
     "metadata": {},
     "output_type": "execute_result"
    }
   ],
   "source": [
    "# Getting the duplicate mice by ID number and converting it into Series\n",
    "duplicated_mice_ID = duplicated_mice_by_ID['Mouse ID'].unique()\n",
    "duplicated_mice_ID = pd.Series(duplicated_mice_ID.squeeze())\n",
    "duplicated_mice_ID"
   ],
   "metadata": {
    "collapsed": false,
    "pycharm": {
     "name": "#%%\n"
    }
   }
  },
  {
   "cell_type": "code",
   "execution_count": 133,
   "metadata": {
    "pycharm": {
     "name": "#%%\n"
    }
   },
   "outputs": [
    {
     "data": {
      "text/plain": "     Mouse ID  Timepoint  Tumor Volume (mm3)  Metastatic Sites Drug Regimen  \\\n107      g989          0           45.000000                 0     Propriva   \n137      g989          0           45.000000                 0     Propriva   \n329      g989          5           48.786801                 0     Propriva   \n360      g989          5           47.570392                 0     Propriva   \n620      g989         10           51.745156                 0     Propriva   \n681      g989         10           49.880528                 0     Propriva   \n815      g989         15           51.325852                 1     Propriva   \n869      g989         15           53.442020                 0     Propriva   \n950      g989         20           55.326122                 1     Propriva   \n1111     g989         20           54.657650                 1     Propriva   \n1195     g989         25           56.045564                 1     Propriva   \n1380     g989         30           59.082294                 1     Propriva   \n1592     g989         35           62.570880                 2     Propriva   \n\n         Sex  Age_months  Weight (g)  \n107   Female          21          26  \n137   Female          21          26  \n329   Female          21          26  \n360   Female          21          26  \n620   Female          21          26  \n681   Female          21          26  \n815   Female          21          26  \n869   Female          21          26  \n950   Female          21          26  \n1111  Female          21          26  \n1195  Female          21          26  \n1380  Female          21          26  \n1592  Female          21          26  ",
      "text/html": "<div>\n<style scoped>\n    .dataframe tbody tr th:only-of-type {\n        vertical-align: middle;\n    }\n\n    .dataframe tbody tr th {\n        vertical-align: top;\n    }\n\n    .dataframe thead th {\n        text-align: right;\n    }\n</style>\n<table border=\"1\" class=\"dataframe\">\n  <thead>\n    <tr style=\"text-align: right;\">\n      <th></th>\n      <th>Mouse ID</th>\n      <th>Timepoint</th>\n      <th>Tumor Volume (mm3)</th>\n      <th>Metastatic Sites</th>\n      <th>Drug Regimen</th>\n      <th>Sex</th>\n      <th>Age_months</th>\n      <th>Weight (g)</th>\n    </tr>\n  </thead>\n  <tbody>\n    <tr>\n      <th>107</th>\n      <td>g989</td>\n      <td>0</td>\n      <td>45.000000</td>\n      <td>0</td>\n      <td>Propriva</td>\n      <td>Female</td>\n      <td>21</td>\n      <td>26</td>\n    </tr>\n    <tr>\n      <th>137</th>\n      <td>g989</td>\n      <td>0</td>\n      <td>45.000000</td>\n      <td>0</td>\n      <td>Propriva</td>\n      <td>Female</td>\n      <td>21</td>\n      <td>26</td>\n    </tr>\n    <tr>\n      <th>329</th>\n      <td>g989</td>\n      <td>5</td>\n      <td>48.786801</td>\n      <td>0</td>\n      <td>Propriva</td>\n      <td>Female</td>\n      <td>21</td>\n      <td>26</td>\n    </tr>\n    <tr>\n      <th>360</th>\n      <td>g989</td>\n      <td>5</td>\n      <td>47.570392</td>\n      <td>0</td>\n      <td>Propriva</td>\n      <td>Female</td>\n      <td>21</td>\n      <td>26</td>\n    </tr>\n    <tr>\n      <th>620</th>\n      <td>g989</td>\n      <td>10</td>\n      <td>51.745156</td>\n      <td>0</td>\n      <td>Propriva</td>\n      <td>Female</td>\n      <td>21</td>\n      <td>26</td>\n    </tr>\n    <tr>\n      <th>681</th>\n      <td>g989</td>\n      <td>10</td>\n      <td>49.880528</td>\n      <td>0</td>\n      <td>Propriva</td>\n      <td>Female</td>\n      <td>21</td>\n      <td>26</td>\n    </tr>\n    <tr>\n      <th>815</th>\n      <td>g989</td>\n      <td>15</td>\n      <td>51.325852</td>\n      <td>1</td>\n      <td>Propriva</td>\n      <td>Female</td>\n      <td>21</td>\n      <td>26</td>\n    </tr>\n    <tr>\n      <th>869</th>\n      <td>g989</td>\n      <td>15</td>\n      <td>53.442020</td>\n      <td>0</td>\n      <td>Propriva</td>\n      <td>Female</td>\n      <td>21</td>\n      <td>26</td>\n    </tr>\n    <tr>\n      <th>950</th>\n      <td>g989</td>\n      <td>20</td>\n      <td>55.326122</td>\n      <td>1</td>\n      <td>Propriva</td>\n      <td>Female</td>\n      <td>21</td>\n      <td>26</td>\n    </tr>\n    <tr>\n      <th>1111</th>\n      <td>g989</td>\n      <td>20</td>\n      <td>54.657650</td>\n      <td>1</td>\n      <td>Propriva</td>\n      <td>Female</td>\n      <td>21</td>\n      <td>26</td>\n    </tr>\n    <tr>\n      <th>1195</th>\n      <td>g989</td>\n      <td>25</td>\n      <td>56.045564</td>\n      <td>1</td>\n      <td>Propriva</td>\n      <td>Female</td>\n      <td>21</td>\n      <td>26</td>\n    </tr>\n    <tr>\n      <th>1380</th>\n      <td>g989</td>\n      <td>30</td>\n      <td>59.082294</td>\n      <td>1</td>\n      <td>Propriva</td>\n      <td>Female</td>\n      <td>21</td>\n      <td>26</td>\n    </tr>\n    <tr>\n      <th>1592</th>\n      <td>g989</td>\n      <td>35</td>\n      <td>62.570880</td>\n      <td>2</td>\n      <td>Propriva</td>\n      <td>Female</td>\n      <td>21</td>\n      <td>26</td>\n    </tr>\n  </tbody>\n</table>\n</div>"
     },
     "execution_count": 133,
     "metadata": {},
     "output_type": "execute_result"
    }
   ],
   "source": [
    "# Optional: Get all the data for the duplicate mouse ID. \n",
    "duplicated_mice_complete_data = mouse_data_complete[mouse_data_complete['Mouse ID'] == 'g989']\n",
    "duplicated_mice_complete_data"
   ]
  },
  {
   "cell_type": "code",
   "execution_count": 134,
   "outputs": [
    {
     "data": {
      "text/plain": "  Mouse ID  Timepoint  Tumor Volume (mm3)  Metastatic Sites Drug Regimen  \\\n0     b128          0                45.0                 0    Capomulin   \n1     f932          0                45.0                 0     Ketapril   \n2     g107          0                45.0                 0     Ketapril   \n3     a457          0                45.0                 0     Ketapril   \n4     c819          0                45.0                 0     Ketapril   \n\n      Sex  Age_months  Weight (g)  \n0  Female           9          22  \n1    Male          15          29  \n2  Female           2          29  \n3  Female          11          30  \n4    Male          21          25  ",
      "text/html": "<div>\n<style scoped>\n    .dataframe tbody tr th:only-of-type {\n        vertical-align: middle;\n    }\n\n    .dataframe tbody tr th {\n        vertical-align: top;\n    }\n\n    .dataframe thead th {\n        text-align: right;\n    }\n</style>\n<table border=\"1\" class=\"dataframe\">\n  <thead>\n    <tr style=\"text-align: right;\">\n      <th></th>\n      <th>Mouse ID</th>\n      <th>Timepoint</th>\n      <th>Tumor Volume (mm3)</th>\n      <th>Metastatic Sites</th>\n      <th>Drug Regimen</th>\n      <th>Sex</th>\n      <th>Age_months</th>\n      <th>Weight (g)</th>\n    </tr>\n  </thead>\n  <tbody>\n    <tr>\n      <th>0</th>\n      <td>b128</td>\n      <td>0</td>\n      <td>45.0</td>\n      <td>0</td>\n      <td>Capomulin</td>\n      <td>Female</td>\n      <td>9</td>\n      <td>22</td>\n    </tr>\n    <tr>\n      <th>1</th>\n      <td>f932</td>\n      <td>0</td>\n      <td>45.0</td>\n      <td>0</td>\n      <td>Ketapril</td>\n      <td>Male</td>\n      <td>15</td>\n      <td>29</td>\n    </tr>\n    <tr>\n      <th>2</th>\n      <td>g107</td>\n      <td>0</td>\n      <td>45.0</td>\n      <td>0</td>\n      <td>Ketapril</td>\n      <td>Female</td>\n      <td>2</td>\n      <td>29</td>\n    </tr>\n    <tr>\n      <th>3</th>\n      <td>a457</td>\n      <td>0</td>\n      <td>45.0</td>\n      <td>0</td>\n      <td>Ketapril</td>\n      <td>Female</td>\n      <td>11</td>\n      <td>30</td>\n    </tr>\n    <tr>\n      <th>4</th>\n      <td>c819</td>\n      <td>0</td>\n      <td>45.0</td>\n      <td>0</td>\n      <td>Ketapril</td>\n      <td>Male</td>\n      <td>21</td>\n      <td>25</td>\n    </tr>\n  </tbody>\n</table>\n</div>"
     },
     "execution_count": 134,
     "metadata": {},
     "output_type": "execute_result"
    }
   ],
   "source": [
    "# Create a clean DataFrame by dropping the duplicate mouse by its ID\n",
    "mouse_data_complete_clean_df = mouse_data_complete[~ mouse_data_complete['Mouse ID'].isin(duplicated_mice_ID)]\n",
    "mouse_data_complete_clean_df.head()"
   ],
   "metadata": {
    "collapsed": false,
    "pycharm": {
     "name": "#%%\n"
    }
   }
  },
  {
   "cell_type": "code",
   "execution_count": 135,
   "metadata": {
    "pycharm": {
     "name": "#%%\n"
    }
   },
   "outputs": [
    {
     "data": {
      "text/plain": "249"
     },
     "execution_count": 135,
     "metadata": {},
     "output_type": "execute_result"
    }
   ],
   "source": [
    "# Checking the number of mice in the clean DataFrame\n",
    "number_of_mice = mouse_data_complete_clean_df['Mouse ID'].nunique()\n",
    "number_of_mice"
   ]
  },
  {
   "cell_type": "markdown",
   "metadata": {
    "pycharm": {
     "name": "#%% md\n"
    }
   },
   "source": [
    "## Summary Statistics"
   ]
  },
  {
   "cell_type": "code",
   "execution_count": 136,
   "metadata": {
    "pycharm": {
     "name": "#%%\n"
    }
   },
   "outputs": [
    {
     "data": {
      "text/plain": "                   Mean     Median   Variance  Standard Deviation       SEM\nDrug Regimen                                                               \nCapomulin     40.675741  41.557809  24.947764            4.994774  0.329346\nCeftamin      52.591172  51.776157  39.290177            6.268188  0.469821\nInfubinol     52.884795  51.820584  43.128684            6.567243  0.492236\nKetapril      55.235638  53.698743  68.553577            8.279709  0.603860\nNaftisol      54.331565  52.509285  66.173479            8.134708  0.596466\nPlacebo       54.033581  52.288934  61.168083            7.821003  0.581331\nPropriva      52.322552  50.854632  42.351070            6.507770  0.512884\nRamicane      40.216745  40.673236  23.486704            4.846308  0.320955\nStelasyn      54.233149  52.431737  59.450562            7.710419  0.573111\nZoniferol     53.236507  51.818479  48.533355            6.966589  0.516398",
      "text/html": "<div>\n<style scoped>\n    .dataframe tbody tr th:only-of-type {\n        vertical-align: middle;\n    }\n\n    .dataframe tbody tr th {\n        vertical-align: top;\n    }\n\n    .dataframe thead th {\n        text-align: right;\n    }\n</style>\n<table border=\"1\" class=\"dataframe\">\n  <thead>\n    <tr style=\"text-align: right;\">\n      <th></th>\n      <th>Mean</th>\n      <th>Median</th>\n      <th>Variance</th>\n      <th>Standard Deviation</th>\n      <th>SEM</th>\n    </tr>\n    <tr>\n      <th>Drug Regimen</th>\n      <th></th>\n      <th></th>\n      <th></th>\n      <th></th>\n      <th></th>\n    </tr>\n  </thead>\n  <tbody>\n    <tr>\n      <th>Capomulin</th>\n      <td>40.675741</td>\n      <td>41.557809</td>\n      <td>24.947764</td>\n      <td>4.994774</td>\n      <td>0.329346</td>\n    </tr>\n    <tr>\n      <th>Ceftamin</th>\n      <td>52.591172</td>\n      <td>51.776157</td>\n      <td>39.290177</td>\n      <td>6.268188</td>\n      <td>0.469821</td>\n    </tr>\n    <tr>\n      <th>Infubinol</th>\n      <td>52.884795</td>\n      <td>51.820584</td>\n      <td>43.128684</td>\n      <td>6.567243</td>\n      <td>0.492236</td>\n    </tr>\n    <tr>\n      <th>Ketapril</th>\n      <td>55.235638</td>\n      <td>53.698743</td>\n      <td>68.553577</td>\n      <td>8.279709</td>\n      <td>0.603860</td>\n    </tr>\n    <tr>\n      <th>Naftisol</th>\n      <td>54.331565</td>\n      <td>52.509285</td>\n      <td>66.173479</td>\n      <td>8.134708</td>\n      <td>0.596466</td>\n    </tr>\n    <tr>\n      <th>Placebo</th>\n      <td>54.033581</td>\n      <td>52.288934</td>\n      <td>61.168083</td>\n      <td>7.821003</td>\n      <td>0.581331</td>\n    </tr>\n    <tr>\n      <th>Propriva</th>\n      <td>52.322552</td>\n      <td>50.854632</td>\n      <td>42.351070</td>\n      <td>6.507770</td>\n      <td>0.512884</td>\n    </tr>\n    <tr>\n      <th>Ramicane</th>\n      <td>40.216745</td>\n      <td>40.673236</td>\n      <td>23.486704</td>\n      <td>4.846308</td>\n      <td>0.320955</td>\n    </tr>\n    <tr>\n      <th>Stelasyn</th>\n      <td>54.233149</td>\n      <td>52.431737</td>\n      <td>59.450562</td>\n      <td>7.710419</td>\n      <td>0.573111</td>\n    </tr>\n    <tr>\n      <th>Zoniferol</th>\n      <td>53.236507</td>\n      <td>51.818479</td>\n      <td>48.533355</td>\n      <td>6.966589</td>\n      <td>0.516398</td>\n    </tr>\n  </tbody>\n</table>\n</div>"
     },
     "execution_count": 136,
     "metadata": {},
     "output_type": "execute_result"
    }
   ],
   "source": [
    "# Generate a summary statistics table of mean, median, variance, standard deviation, and SEM of the tumor volume for each regimen\n",
    "\n",
    "# Use groupby and summary statistical methods to calculate the following properties of each drug regimen: \n",
    "# mean, median, variance, standard deviation, and SEM of the tumor volume\n",
    "# Assemble the resulting series into a single summary dataframe\n",
    "\n",
    "drug_regimen = mouse_data_complete_clean_df.groupby('Drug Regimen')\n",
    "mean = drug_regimen['Tumor Volume (mm3)'].mean()\n",
    "median = drug_regimen['Tumor Volume (mm3)'].median()\n",
    "variance = drug_regimen['Tumor Volume (mm3)'].var()\n",
    "SD = drug_regimen['Tumor Volume (mm3)'].std()\n",
    "SEM = drug_regimen['Tumor Volume (mm3)'].sem()\n",
    "\n",
    "drug_regimen_summary = pd.DataFrame({'Mean': mean,\n",
    "                                'Median': median,\n",
    "                                'Variance': variance,\n",
    "                                'Standard Deviation': SD,\n",
    "                                'SEM': SEM\n",
    "                                })\n",
    "drug_regimen_summary"
   ]
  },
  {
   "cell_type": "code",
   "execution_count": 137,
   "metadata": {
    "pycharm": {
     "name": "#%%\n"
    }
   },
   "outputs": [
    {
     "data": {
      "text/plain": "             Tumor Volume (mm3)                                          \n                           mean     median        var       std       sem\nDrug Regimen                                                             \nCapomulin             40.675741  41.557809  24.947764  4.994774  0.329346\nCeftamin              52.591172  51.776157  39.290177  6.268188  0.469821\nInfubinol             52.884795  51.820584  43.128684  6.567243  0.492236\nKetapril              55.235638  53.698743  68.553577  8.279709  0.603860\nNaftisol              54.331565  52.509285  66.173479  8.134708  0.596466\nPlacebo               54.033581  52.288934  61.168083  7.821003  0.581331\nPropriva              52.322552  50.854632  42.351070  6.507770  0.512884\nRamicane              40.216745  40.673236  23.486704  4.846308  0.320955\nStelasyn              54.233149  52.431737  59.450562  7.710419  0.573111\nZoniferol             53.236507  51.818479  48.533355  6.966589  0.516398",
      "text/html": "<div>\n<style scoped>\n    .dataframe tbody tr th:only-of-type {\n        vertical-align: middle;\n    }\n\n    .dataframe tbody tr th {\n        vertical-align: top;\n    }\n\n    .dataframe thead tr th {\n        text-align: left;\n    }\n\n    .dataframe thead tr:last-of-type th {\n        text-align: right;\n    }\n</style>\n<table border=\"1\" class=\"dataframe\">\n  <thead>\n    <tr>\n      <th></th>\n      <th colspan=\"5\" halign=\"left\">Tumor Volume (mm3)</th>\n    </tr>\n    <tr>\n      <th></th>\n      <th>mean</th>\n      <th>median</th>\n      <th>var</th>\n      <th>std</th>\n      <th>sem</th>\n    </tr>\n    <tr>\n      <th>Drug Regimen</th>\n      <th></th>\n      <th></th>\n      <th></th>\n      <th></th>\n      <th></th>\n    </tr>\n  </thead>\n  <tbody>\n    <tr>\n      <th>Capomulin</th>\n      <td>40.675741</td>\n      <td>41.557809</td>\n      <td>24.947764</td>\n      <td>4.994774</td>\n      <td>0.329346</td>\n    </tr>\n    <tr>\n      <th>Ceftamin</th>\n      <td>52.591172</td>\n      <td>51.776157</td>\n      <td>39.290177</td>\n      <td>6.268188</td>\n      <td>0.469821</td>\n    </tr>\n    <tr>\n      <th>Infubinol</th>\n      <td>52.884795</td>\n      <td>51.820584</td>\n      <td>43.128684</td>\n      <td>6.567243</td>\n      <td>0.492236</td>\n    </tr>\n    <tr>\n      <th>Ketapril</th>\n      <td>55.235638</td>\n      <td>53.698743</td>\n      <td>68.553577</td>\n      <td>8.279709</td>\n      <td>0.603860</td>\n    </tr>\n    <tr>\n      <th>Naftisol</th>\n      <td>54.331565</td>\n      <td>52.509285</td>\n      <td>66.173479</td>\n      <td>8.134708</td>\n      <td>0.596466</td>\n    </tr>\n    <tr>\n      <th>Placebo</th>\n      <td>54.033581</td>\n      <td>52.288934</td>\n      <td>61.168083</td>\n      <td>7.821003</td>\n      <td>0.581331</td>\n    </tr>\n    <tr>\n      <th>Propriva</th>\n      <td>52.322552</td>\n      <td>50.854632</td>\n      <td>42.351070</td>\n      <td>6.507770</td>\n      <td>0.512884</td>\n    </tr>\n    <tr>\n      <th>Ramicane</th>\n      <td>40.216745</td>\n      <td>40.673236</td>\n      <td>23.486704</td>\n      <td>4.846308</td>\n      <td>0.320955</td>\n    </tr>\n    <tr>\n      <th>Stelasyn</th>\n      <td>54.233149</td>\n      <td>52.431737</td>\n      <td>59.450562</td>\n      <td>7.710419</td>\n      <td>0.573111</td>\n    </tr>\n    <tr>\n      <th>Zoniferol</th>\n      <td>53.236507</td>\n      <td>51.818479</td>\n      <td>48.533355</td>\n      <td>6.966589</td>\n      <td>0.516398</td>\n    </tr>\n  </tbody>\n</table>\n</div>"
     },
     "execution_count": 137,
     "metadata": {},
     "output_type": "execute_result"
    }
   ],
   "source": [
    "# Using the aggregation method, produce the same summary statistics in a single line\n",
    "\n",
    "drug_regimen_summary_agg = mouse_data_complete_clean_df.groupby('Drug Regimen').agg({'Tumor Volume (mm3)': ['mean', 'median', 'var', 'std', 'sem']})\n",
    "drug_regimen_summary_agg"
   ]
  },
  {
   "cell_type": "markdown",
   "metadata": {
    "pycharm": {
     "name": "#%% md\n"
    }
   },
   "source": [
    "## Bar and Pie Charts"
   ]
  },
  {
   "cell_type": "code",
   "execution_count": 138,
   "metadata": {
    "pycharm": {
     "name": "#%%\n"
    }
   },
   "outputs": [],
   "source": [
    "# Generate a bar plot showing the total number of timepoints for all mice tested for each drug regimen using Pandas.\n",
    "\n"
   ]
  },
  {
   "cell_type": "code",
   "execution_count": 139,
   "metadata": {
    "pycharm": {
     "name": "#%%\n"
    }
   },
   "outputs": [],
   "source": [
    "# Generate a bar plot showing the total number of timepoints for all mice tested for each drug regimen using pyplot.\n",
    "\n"
   ]
  },
  {
   "cell_type": "code",
   "execution_count": 140,
   "metadata": {
    "pycharm": {
     "name": "#%%\n"
    }
   },
   "outputs": [],
   "source": [
    "# Generate a pie plot showing the distribution of female versus male mice using Pandas\n",
    "\n"
   ]
  },
  {
   "cell_type": "code",
   "execution_count": 141,
   "metadata": {
    "pycharm": {
     "name": "#%%\n"
    }
   },
   "outputs": [],
   "source": [
    "# Generate a pie plot showing the distribution of female versus male mice using pyplot\n",
    "\n"
   ]
  },
  {
   "cell_type": "markdown",
   "metadata": {
    "pycharm": {
     "name": "#%% md\n"
    }
   },
   "source": [
    "## Quartiles, Outliers and Boxplots"
   ]
  },
  {
   "cell_type": "code",
   "execution_count": 142,
   "metadata": {
    "pycharm": {
     "name": "#%%\n"
    }
   },
   "outputs": [],
   "source": [
    "# Calculate the final tumor volume of each mouse across four of the treatment regimens:  \n",
    "# Capomulin, Ramicane, Infubinol, and Ceftamin\n",
    "\n",
    "# Start by getting the last (greatest) timepoint for each mouse\n",
    "\n",
    "\n",
    "# Merge this group df with the original dataframe to get the tumor volume at the last timepoint\n"
   ]
  },
  {
   "cell_type": "code",
   "execution_count": 143,
   "metadata": {
    "pycharm": {
     "name": "#%%\n"
    }
   },
   "outputs": [],
   "source": [
    "# Put treatments into a list for for loop (and later for plot labels)\n",
    "\n",
    "\n",
    "# Create empty list to fill with tumor vol data (for plotting)\n",
    "\n",
    "\n",
    "# Calculate the IQR and quantitatively determine if there are any potential outliers. \n",
    "\n",
    "    \n",
    "    # Locate the rows which contain mice on each drug and get the tumor volumes\n",
    "    \n",
    "    \n",
    "    # add subset \n",
    "    \n",
    "    \n",
    "    # Determine outliers using upper and lower bounds\n",
    "    "
   ]
  },
  {
   "cell_type": "code",
   "execution_count": 144,
   "metadata": {
    "pycharm": {
     "name": "#%%\n"
    }
   },
   "outputs": [],
   "source": [
    "# Generate a box plot of the final tumor volume of each mouse across four regimens of interest\n"
   ]
  },
  {
   "cell_type": "markdown",
   "metadata": {
    "pycharm": {
     "name": "#%% md\n"
    }
   },
   "source": [
    "## Line and Scatter Plots"
   ]
  },
  {
   "cell_type": "code",
   "execution_count": 145,
   "metadata": {
    "pycharm": {
     "name": "#%%\n"
    }
   },
   "outputs": [],
   "source": [
    "# Generate a line plot of tumor volume vs. time point for a mouse treated with Capomulin\n"
   ]
  },
  {
   "cell_type": "code",
   "execution_count": 146,
   "metadata": {
    "pycharm": {
     "name": "#%%\n"
    }
   },
   "outputs": [],
   "source": [
    "# Generate a scatter plot of average tumor volume vs. mouse weight for the Capomulin regimen\n"
   ]
  },
  {
   "cell_type": "markdown",
   "metadata": {
    "pycharm": {
     "name": "#%% md\n"
    }
   },
   "source": [
    "## Correlation and Regression"
   ]
  },
  {
   "cell_type": "code",
   "execution_count": 147,
   "metadata": {
    "pycharm": {
     "name": "#%%\n"
    }
   },
   "outputs": [],
   "source": [
    "# Calculate the correlation coefficient and linear regression model \n",
    "# for mouse weight and average tumor volume for the Capomulin regimen\n"
   ]
  },
  {
   "cell_type": "code",
   "execution_count": 147,
   "metadata": {
    "pycharm": {
     "name": "#%%\n"
    }
   },
   "outputs": [],
   "source": []
  }
 ],
 "metadata": {
  "anaconda-cloud": {},
  "kernelspec": {
   "display_name": "Python 3",
   "language": "python",
   "name": "python3"
  },
  "language_info": {
   "codemirror_mode": {
    "name": "ipython",
    "version": 3
   },
   "file_extension": ".py",
   "mimetype": "text/x-python",
   "name": "python",
   "nbconvert_exporter": "python",
   "pygments_lexer": "ipython3",
   "version": "3.7.7"
  }
 },
 "nbformat": 4,
 "nbformat_minor": 4
}